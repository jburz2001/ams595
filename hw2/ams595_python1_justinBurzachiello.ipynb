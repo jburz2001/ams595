{
  "cells": [
    {
      "cell_type": "markdown",
      "metadata": {
        "id": "xq__bChjD04e"
      },
      "source": [
        "# Python Assignment 1"
      ]
    },
    {
      "cell_type": "markdown",
      "source": [
        "⏱⏱⏱**Due: 10/03/2023 11:59 PM** ⏱⏱⏱\n",
        "\n",
        "Submit this notebook file and upload it to your git repo. Include a link to your git repo while submitting this file to Brightspace.\n",
        "\n",
        "You are not allowed to use chatgpt or any LLM in this assignment.\n",
        "Cooperation is allowed and encouraged; however, you must write up and submit your own work. If you cooperate with others, you must list their names here."
      ],
      "metadata": {
        "id": "y7j2V0UDMYLG"
      }
    },
    {
      "cell_type": "markdown",
      "metadata": {
        "id": "SUS30Ew9D04n"
      },
      "source": [
        "(100 points total)"
      ]
    },
    {
      "cell_type": "markdown",
      "source": [
        "## 0. Data Types, Structures, Indexing, and Slicing"
      ],
      "metadata": {
        "id": "b_bgT3b2GYTB"
      }
    },
    {
      "cell_type": "markdown",
      "source": [
        "Read the lecutre note as well as [this page](https://www.geeksforgeeks.org/mutable-vs-immutable-objects-in-python/) and [this page](https://www.geeksforgeeks.org/difference-between-shallow-and-deep-copy-of-a-class/). Complete the following questions.\n",
        "\n",
        "(5 points) Give some examples (at least 2) of mutable objects in Python.\n",
        "\n",
        "List, dictionary\n",
        "\n",
        "\n",
        "---\n",
        "\n",
        "\n",
        "\n",
        "(5 points) Give some examples (at least 2) of immutable objects in Python.\n",
        "\n",
        "Tuple, string\n",
        "\n",
        "\n",
        "---\n",
        "\n",
        "\n",
        "\n",
        "(10 points) State the differences between assignment, shallow copy, and deep copy. Any reasonable answer will get full credit.\n",
        "\n",
        "When running a computer program, the computer needs to allocate memory for each instantiated object so that information can be stored, accessed, and possibly altered. Each allocation of memory occurs \"somewhere\", and the location is the address (or collection of addresses). Let us assume that an object is allocated a collection of memory addresses in memory to represent its values internally for later use. If one would like to copy this object, then there are two ways to do so: a deep copy and a shallow copy.\n",
        "\n",
        "The deep copy involves allocating an equivalently-sized collection of \"real estate\" in memory elsewhere from the original. Importantly, altering this new memory has no effect on the source from which is was copied from since the addresses in memory differ. This copy is \"deep\" since it invovles extracting and rewriting each attribute of the original object to a new location in memory.\n",
        "\n",
        "However, a shallow copy involves creating a so-called \"pointer\" in memory that \"points\" to an address to say \"my information is stored there\". This means that altering the shallow-copied object will necessarily alter the object from which it was copied from since altering it involves changing the information that is pointed at, which is the source of the copy. This is shallow because instead of rewriting the information about the object it is simply referenced from another location in memory.\n",
        "\n",
        "Assignment, in general, refers to assigning an object a collecton of memory to represent its information. If we loosely think of the memory which represents an object as a \"genome\", then a genome that cannot be mutated (altered from its original) is an \"immutable\" object, while a genome that can be mutated (altered from its original) is a \"mutable\" object. This is intuitively where the respective terminology comes from.\n",
        "\n",
        "\n",
        "---\n",
        "\n",
        "\n",
        "\n"
      ],
      "metadata": {
        "id": "6yI1Jt57IwV2"
      }
    },
    {
      "cell_type": "markdown",
      "source": [
        "(10 points) Using string methods find() and rfind(), find the index of the first digit (i.e. 0) and the index of the last digit (5) in the string below. Then, using string slicing, extract the number (i.e. 0.595595) from this string and convert the extracted value to a floating point number. Print out this float to the console."
      ],
      "metadata": {
        "id": "OA8DxcrrGqZD"
      }
    },
    {
      "cell_type": "code",
      "source": [
        "text = \"F-DGFDDSFGFD-CFDSHdstgfdfe: tfsd  aaa bdsf 0.595595 fdsgfdbc\";\n",
        "\n",
        "#use the find method to locate the first index from the left which yields 0\n",
        "first = text.find('0')\n",
        "#use the rfind method to locate the first index from the right which yields 5\n",
        "last = text.rfind('5')\n",
        "\n",
        "#the following code confirms that the index of the ending 5 digit is 50\n",
        "# print(last)\n",
        "# for i, c in enumerate(text):\n",
        "#     print(f'{i}: {c}')\n",
        "\n",
        "#print a float which represents the string sliced from the first to the last digit\n",
        "print(float(text[first:last+1]))"
      ],
      "metadata": {
        "id": "AUuFXXWqG4D3",
        "colab": {
          "base_uri": "https://localhost:8080/"
        },
        "outputId": "822d5997-a193-4f56-bd98-ed94f03c392f"
      },
      "execution_count": null,
      "outputs": [
        {
          "output_type": "stream",
          "name": "stdout",
          "text": [
            "0.595595\n"
          ]
        }
      ]
    },
    {
      "cell_type": "markdown",
      "metadata": {
        "id": "cnCljYgpD04p"
      },
      "source": [
        "## 1. Conditional Statements\n",
        "\n",
        "(10 points)\n",
        "Translate the following MATLAB code into Python using `if-elif-else`.\n",
        "```\n",
        "n = input('Enter a number: ');\n",
        "\n",
        "switch n\n",
        "    case -1\n",
        "        disp('negative one')\n",
        "    case 0\n",
        "        disp('zero')\n",
        "    case 1\n",
        "        disp('positive one')\n",
        "    otherwise\n",
        "        disp('other value')\n",
        "end\n",
        "```"
      ]
    },
    {
      "cell_type": "code",
      "execution_count": null,
      "metadata": {
        "collapsed": true,
        "id": "9d8vl5zjD04q",
        "colab": {
          "base_uri": "https://localhost:8080/"
        },
        "outputId": "6256c7e3-067a-410a-b7d8-06cda00a664d"
      },
      "outputs": [
        {
          "output_type": "stream",
          "name": "stdout",
          "text": [
            "Enter a number: -1\n",
            "negative one\n"
          ]
        }
      ],
      "source": [
        "#aquire user input as a number\n",
        "#   MATLAB automatically represents input numbers as double, so convert the input to float\n",
        "n = float(input('Enter a number: '))\n",
        "\n",
        "if n == -1:\n",
        "    print('negative one')\n",
        "elif n == 0:\n",
        "    print('zero')\n",
        "elif n == 1:\n",
        "    print('positive one')\n",
        "else:\n",
        "    print('other value')"
      ]
    },
    {
      "cell_type": "markdown",
      "metadata": {
        "id": "sW9XiUPpD04s"
      },
      "source": [
        "## 2. While Loops\n",
        "\n",
        "(10 points) Write a Python program that calculates the factorial of a given number (you can assume an positive integer) using a while loop. Display the result to the console."
      ]
    },
    {
      "cell_type": "code",
      "execution_count": null,
      "metadata": {
        "collapsed": true,
        "id": "CRCERx8uD04t",
        "colab": {
          "base_uri": "https://localhost:8080/"
        },
        "outputId": "21611f1c-dc65-4959-f00e-50a1c35e67d1"
      },
      "outputs": [
        {
          "output_type": "stream",
          "name": "stdout",
          "text": [
            "Enter a positive integer: 13\n",
            "6227020800\n"
          ]
        }
      ],
      "source": [
        "# n! = n(n-1)(n-2)...(2)(1)\n",
        "#    = 1(n)(n-1)(n-2)...(3)(2)\n",
        "\n",
        "n = int(input(\"Enter a positive integer: \"))\n",
        "\n",
        "factorial = 1\n",
        "while n >= 2:\n",
        "    factorial *= n\n",
        "    n -= 1\n",
        "\n",
        "print(factorial)\n",
        "\n",
        "# test cases\n",
        "# n = 17, Output: 355687428096000\n",
        "# n = 13, Output: 6227020800"
      ]
    },
    {
      "cell_type": "markdown",
      "metadata": {
        "id": "ZQ5SVMq6D04w"
      },
      "source": [
        "## 3. Functions\n",
        "\n",
        "(10 points) Write a function that determines if a number is prime."
      ]
    },
    {
      "cell_type": "code",
      "execution_count": null,
      "metadata": {
        "id": "6rGP5G3_D04x",
        "colab": {
          "base_uri": "https://localhost:8080/"
        },
        "outputId": "1ed28325-6458-4888-e721-af952f7480f4"
      },
      "outputs": [
        {
          "output_type": "stream",
          "name": "stdout",
          "text": [
            "True\n",
            "False\n",
            "True\n"
          ]
        }
      ],
      "source": [
        "#a number if prime if it evenly divisible by just 1 and itself\n",
        "#   the following function confirms that this is true\n",
        "def is_prime(n):\n",
        "    #iterate over all numbers exclusively between 2 and n\n",
        "    for i in range(2, n):\n",
        "        #if one of these numbers evenly divides n then n is not prime\n",
        "        if n % i == 0:\n",
        "            return False\n",
        "    #return True since no numbers besides 1 and n divide n\n",
        "    return True\n",
        "\n",
        "# test cases\n",
        "print(is_prime(2))      # Output: True\n",
        "print(is_prime(10))     # Output: False\n",
        "print(is_prime(17))     # Output: True"
      ]
    },
    {
      "cell_type": "markdown",
      "metadata": {
        "id": "Z6qg-fpQD04u"
      },
      "source": [
        "## 4. List Comprehension\n",
        "\n",
        "(10 points) Write a Python function called `prime_factors` that takes a relatively small integer as input and returns a list of its distinct prime factors. The function should use list comprehension to generate the list of distinct prime factors. You may use the function is_prime() defined in Q3.\n"
      ]
    },
    {
      "cell_type": "code",
      "execution_count": null,
      "metadata": {
        "collapsed": true,
        "id": "2hSCjYlOD04v",
        "colab": {
          "base_uri": "https://localhost:8080/"
        },
        "outputId": "6f4bc801-9c34-407b-b076-62c48b1ccf1f"
      },
      "outputs": [
        {
          "output_type": "stream",
          "name": "stdout",
          "text": [
            "[2, 3, 5]\n",
            "[2, 7]\n",
            "[2, 3, 11]\n",
            "[2, 29]\n"
          ]
        }
      ],
      "source": [
        "#the prime factors of n are prime numbers which evenly divide n\n",
        "#   create a list of all numbers exclusively between 2 and n which are prime\n",
        "#   AND which divide n evenly\n",
        "def prime_factors(n):\n",
        "    return [factor for factor in range(2, n) if is_prime(factor) and n%factor==0]\n",
        "\n",
        "# test cases\n",
        "print(prime_factors(30))  # Output: [2, 3, 5]\n",
        "print(prime_factors(56))  # Output: [2, 7]\n",
        "print(prime_factors(198))  # Output: [2, 3, 11]\n",
        "print(prime_factors(464))  # Output: [2, 29]"
      ]
    },
    {
      "cell_type": "markdown",
      "metadata": {
        "id": "dw4kZZCiD040"
      },
      "source": [
        "## 5. Recursive Functions\n",
        "(25 points) Write a function that uses recursion to generate the $n$th row of the Pascal's triangle.\n",
        "```\n",
        "              1\n",
        "           1     1\n",
        "        1     2     1\n",
        "      1    3     3     1\n",
        "   1    4     6     4    1\n",
        "1     5    10    10    5    1\n",
        "...\n",
        "...\n",
        "...\n",
        "```"
      ]
    },
    {
      "cell_type": "code",
      "execution_count": null,
      "metadata": {
        "id": "V8QFB_gKD040",
        "colab": {
          "base_uri": "https://localhost:8080/"
        },
        "outputId": "ec57f9d6-bb5f-4adc-ddca-dca0fd278833"
      },
      "outputs": [
        {
          "output_type": "stream",
          "name": "stdout",
          "text": [
            "[1, 5, 10, 10, 5, 1]\n"
          ]
        }
      ],
      "source": [
        "#the ith element in the rth row of Pascal's Triangle is\n",
        "#   the sum of the (i-1)th and the (i+1)th element of the (r-1)th row\n",
        "\n",
        "def pascal(n):\n",
        "    if n == 0:\n",
        "        return [1]\n",
        "    elif n == 1:\n",
        "        return [1, 1]\n",
        "    else:\n",
        "        #find the row whose values enable the definition of the desired row\n",
        "        prev_row = pascal(n - 1)\n",
        "        #preallocate the \"boundary\" 1s that can be found on every row besides the 0th\n",
        "        curr_row = [1, 1]\n",
        "        #insert values into the row by additng up adjacent values in the previous row\n",
        "        for i in range(1, n-1):\n",
        "            curr_row.insert(-1, prev_row[i-1] + prev_row[i])\n",
        "        return curr_row\n",
        "\n",
        "# test case\n",
        "print(pascal(6))  # output [1, 5, 10, 10, 5, 1]"
      ]
    },
    {
      "cell_type": "markdown",
      "metadata": {
        "id": "eZytgm0qD041"
      },
      "source": [
        "Rewrite the above function using only `while` or `for` loops instead of recursion."
      ]
    },
    {
      "cell_type": "code",
      "execution_count": null,
      "metadata": {
        "collapsed": true,
        "id": "UZ8f-akaD041",
        "colab": {
          "base_uri": "https://localhost:8080/"
        },
        "outputId": "508d03cb-1bca-478d-bc57-a117b157239e"
      },
      "outputs": [
        {
          "output_type": "stream",
          "name": "stdout",
          "text": [
            "[1, 5, 10, 10, 5, 1]\n"
          ]
        }
      ],
      "source": [
        "#each row of Pascal's Triangle has n elements, so a for loop from 1:n can be used\n",
        "#   insert elements before the last element based on the value inserted in\n",
        "#   the previous iteration\n",
        "def pascal_by_loops(n):\n",
        "    row = [1, 1]\n",
        "    for i in range(1, n):\n",
        "        row.insert(-1, int(row[i-1] * (n-i) / i))\n",
        "    return row[:-1]\n",
        "\n",
        "\n",
        "print(pascal_by_loops(6))"
      ]
    },
    {
      "cell_type": "markdown",
      "source": [
        "\n",
        "\n",
        "---\n",
        "\n",
        "\n",
        "（5 points) good coding practice and properly submitting your work to GitHub."
      ],
      "metadata": {
        "id": "HvHD6QHzVo9I"
      }
    }
  ],
  "metadata": {
    "anaconda-cloud": {},
    "kernelspec": {
      "display_name": "Python 3",
      "language": "python",
      "name": "python3"
    },
    "language_info": {
      "codemirror_mode": {
        "name": "ipython",
        "version": 3
      },
      "file_extension": ".py",
      "mimetype": "text/x-python",
      "name": "python",
      "nbconvert_exporter": "python",
      "pygments_lexer": "ipython3",
      "version": "3.7.4"
    },
    "colab": {
      "provenance": []
    }
  },
  "nbformat": 4,
  "nbformat_minor": 0
}