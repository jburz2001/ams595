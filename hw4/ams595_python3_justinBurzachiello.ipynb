{
  "cells": [
    {
      "cell_type": "markdown",
      "metadata": {
        "id": "xq__bChjD04e"
      },
      "source": [
        "# Python Assignment 3"
      ]
    },
    {
      "cell_type": "markdown",
      "source": [
        "⏱⏱⏱**Due: 11/02/2023 11:59 PM** ⏱⏱⏱\n",
        "\n",
        "Please submit your notebook files and upload them to your Git repository. Don't forget to include a link to your Git repository when submitting this file on Brightspace. **Please include all outputs in your notebook, including plots, printouts, etc..**\n",
        "\n",
        "Collaboration is permitted and encouraged; however, it's essential to independently produce and submit your own work. If you collaborate with others, please ensure that you provide their names in the designated section.\n",
        "\n",
        "Collaborators:_____"
      ],
      "metadata": {
        "id": "y7j2V0UDMYLG"
      }
    },
    {
      "cell_type": "markdown",
      "metadata": {
        "id": "SUS30Ew9D04n"
      },
      "source": [
        "##**For Questions 2a and 2b, you can choose one of them to complete, if you completed both, only Questions 2a will be graded.**\n",
        "\n",
        "**This assignment is out of 150 points; surplus points can be applied to other assignments (including Matlab and C/C++). However, it cannot be applied to your final project grade, and your assignment grade will not excced 75% of your total grade.**"
      ]
    },
    {
      "cell_type": "markdown",
      "source": [
        "## 1. Good presentation of your code and outputs; submitting your files to Github (10 pts)"
      ],
      "metadata": {
        "id": "KR0Fl4yAQYad"
      }
    },
    {
      "cell_type": "markdown",
      "source": [
        "Ensure thorough and clear comments within your code to explain its functionality.\n",
        "\n",
        "Enhance your plots by adding titles, legends, and axis labels where appropriate to provide clarity.\n",
        "\n",
        "If necessary, employ LaTex notation to present mathematical explanations within the notebook.\n",
        "\n",
        "Divide your code into multiple blocks or cells in Jupyter Notebook and provide descriptive explanations for each block to improve readability.\n",
        "\n",
        "As part of your submission, **include the notebook files and upload them to your Git repository. Additionally, remember to provide a link to your Git repository when submitting the files on Brightspace.** Do not submit a compressed file (.rar, .zip, etc..), submit files separately.\n",
        "\n",
        "If you are tasked with implementing a numerical algorithm, it is expected that you would not rely on pre-existing methods. For example, if you were asked to solve $Ax=b$, you should write your own program to solve, not just by calling numpy.linalg.solve.\n",
        "\n"
      ],
      "metadata": {
        "id": "9WPZWhYQkptT"
      }
    },
    {
      "cell_type": "markdown",
      "source": [
        "## 2a. Numerical Integration (30 pts)"
      ],
      "metadata": {
        "id": "U5SL2j0sqnAJ"
      }
    },
    {
      "cell_type": "markdown",
      "source": [
        "For a domain discretized into $N$ equally spaced panels:\n",
        "$$\n",
        "\\Delta x=\\frac{b-a}{N}.\n",
        "$$\n",
        "The approximation to the integral is\n",
        "$$\\begin{aligned}\n",
        "\\int_a^b f(x) d x & \\approx \\frac{\\Delta x}{2} \\sum_{k=1}^N\\left(f\\left(x_{k-1}\\right)+f\\left(x_k\\right)\\right) \\\\\n",
        "& =\\frac{\\Delta x}{2}\\left(f\\left(x_0\\right)+2 f\\left(x_1\\right)+2 f\\left(x_2\\right)+2 f\\left(x_3\\right)+\\cdots+2 f\\left(x_{N-1}\\right)+f\\left(x_N\\right)\\right) \\\\\n",
        "& =\\Delta x\\left(\\sum_{k=1}^{N-1} f\\left(x_k\\right)+\\frac{f\\left(x_N\\right)+f\\left(x_0\\right)}{2}\\right) .\n",
        "\\end{aligned}$$\n",
        "This is the trapezoid rule scheme.\n",
        "\n",
        "\n",
        "Given the function $f(x) = 3x^2 + 2x +2$, your tasks are:\n",
        "\n",
        "1. Carry out the integration symbolically using the SymPy library. Output the result (i.e. print out the result).\n",
        "2. Implement the trapezoid rule to estimate the integral $\\int_{-4}^6 f(x) dx$ using the following values of $N = 10, 20, 40, 80, 160, 320, 640, 1280$. Output the results (i.e. print out the results).\n",
        "3. Plot the absolute error (absolute difference between the numerical approximation and the SymPy result) against N.\n",
        "\n",
        "\n",
        "\n"
      ],
      "metadata": {
        "id": "OxwdE468rNAR"
      }
    },
    {
      "cell_type": "code",
      "source": [
        "#import relevant Python libraries\n",
        "import sympy as sym\n",
        "import numpy as np\n",
        "\n",
        "#define x as a symbol for symbolic computation\n",
        "x = sym.Symbol('x')\n",
        "print(f'Symoblic integration result: {sym.integrate(3*x**2 + 2*x + 2)}')\n",
        "\n",
        "#define a function to perform numerical integration via the trapezoidal rule\n",
        "def trapezoidal_rule(f, a, b, N):\n",
        "    #f is a function\n",
        "    #a and b are bounds\n",
        "    #N is the number of trapezoids\n",
        "\n",
        "    #define x-axis distance between left-sides of trapezoids\n",
        "    dx = (b - a) / N\n",
        "    #define x-axis points that denote where trapezoids' sides connect w/ x-axis\n",
        "    xs = np.linspace(a, b, N)\n",
        "    #return result of numerical integration\n",
        "    return dx * (np.sum(f(xs[:N-1]) + (f(xs[-1]) + f(xs[0]))/2))\n",
        "\n",
        "#define function that will be integrated\n",
        "f = lambda x : 3*x**2 + 2*x + 2\n",
        "#define min and max values of the domain of integration\n",
        "a, b = -4, 6\n",
        "#perform numerical integration with increasing values of N\n",
        "for N in (10, 20, 40, 80, 160, 320, 640, 1280):\n",
        "    print(f'Trapezoidal rule-integration with N={N}: {trapezoidal_rule(f, a, b, N)}')"
      ],
      "metadata": {
        "colab": {
          "base_uri": "https://localhost:8080/"
        },
        "id": "cLEbVg3IVh5Y",
        "outputId": "9670cf0b-450e-430a-b3b7-b2b293b51514"
      },
      "execution_count": null,
      "outputs": [
        {
          "output_type": "stream",
          "name": "stdout",
          "text": [
            "Symoblic integration result: x**3 + x**2 + 2*x\n",
            "Trapezoidal rule-integration with N=10: 991.5555555555557\n",
            "Trapezoidal rule-integration with N=20: 1064.3157894736842\n",
            "Trapezoidal rule-integration with N=40: 1101.8205128205127\n",
            "Trapezoidal rule-integration with N=80: 1120.8291139240507\n",
            "Trapezoidal rule-integration with N=160: 1130.3946540880504\n",
            "Trapezoidal rule-integration with N=320: 1135.1923981191221\n",
            "Trapezoidal rule-integration with N=640: 1137.5949726134586\n",
            "Trapezoidal rule-integration with N=1280: 1138.7971804143863\n"
          ]
        }
      ]
    },
    {
      "cell_type": "markdown",
      "source": [
        "## 2b. Numerical Differentiation (30 pts)"
      ],
      "metadata": {
        "id": "uzMa1xSEwhe3"
      }
    },
    {
      "cell_type": "markdown",
      "source": [
        "Your tasks:\n",
        "1. Find the closed form expression of $f_{xy}(x,y)$, i.e. $\\frac{d^2}{dxdy}f(x,y)$, for $f(x,y) = \\left(sin^2\\left(x\\right)e^xcos(y)\\right)$ using `sympy`. Output the result.\n",
        "2. Find $f_{xy}(2,3)$ with `sympy` and take 15 significant digits, use it as the \"groud truth solution\". Output the result.\n",
        "3. Approximate $f_{xy}(2,3)$ using central difference approximation for the following values of $h = 0.1, 0.01, 0.001, 0.0001$. Output the results.\n",
        "4. Plot the absolute error (absolute difference between the numerical approximation and the SymPy result) against the step size $h$. `plt.gca().invert_xaxis() ` might help.\n",
        "\n",
        "Recall from the lecture:\n",
        "$$f_{x y}(x, y) \\approx \\frac{f(x+h, y+k)-f(x+h, y-k)-f(x-h, y+k)+f(x-h, y-k)}{4 h k}.$$\n",
        "For simplicity, we set $k = h$."
      ],
      "metadata": {
        "id": "FoA2lb0VxDk4"
      }
    },
    {
      "cell_type": "markdown",
      "source": [
        "## 3. Pandas I (15 pts)"
      ],
      "metadata": {
        "id": "aCgIDqeLBPjj"
      }
    },
    {
      "cell_type": "markdown",
      "source": [
        "1. Create a 3x4 (3 rows by 4 columns) pandas DataFrame with the columns named after the following Long Island towns: Hempstead, Babylon, Islip, and Brookhaven. The rows represent 'Population in 2099', 'Population in 2300', 'Population in 2400'. Fill each of the 12 cells in the DataFrame with a random integer from 1000 to 10000, inclusive. `np.random.randint()` might be helpful.\n",
        "For Example:\n",
        "\n",
        "```\n",
        "                    Hempstead  Babylon  Islip  Brookhaven\n",
        "Population in 2099       2931     8043   8414        8661\n",
        "Population in 2300       5444     9227   7393        8007\n",
        "Population in 2400       1660     7977   4730        2940\n",
        "```\n",
        "\n",
        "\n",
        "\n",
        "2. Output the following:\n",
        "  - The entire DataFrame.\n",
        "  - The value in the cell of row #1 (indexing starts with 0) under the Hempstead column.\n",
        "\n",
        "3. Add a new column named Riverhead. Populate this column with the sum of the respective row values from the Islip and Brookhaven columns. Output the entire DataFrame again."
      ],
      "metadata": {
        "id": "O1w1avrtBYD5"
      }
    },
    {
      "cell_type": "code",
      "source": [
        "import pandas as pd\n",
        "\n",
        "#create dataset\n",
        "data = {\n",
        "    'Hempstead' : (2931, 5444, 1660),\n",
        "    'Babylon'   : (8043, 9227, 7977),\n",
        "    'Islip'     : (8414, 7393, 4730),\n",
        "    'Brookhaven': (8661, 8007, 2940)}\n",
        "\n",
        "#use dataset to create DataFrame\n",
        "df = pd.DataFrame(\n",
        "    data,\n",
        "    index=pd.Index(('Population in 2099', 'Population in 2300', 'Population in 2400')),\n",
        "    columns=pd.Index(('Hempstead', 'Babylon', 'Islip', 'Brookhaven')))\n",
        "\n",
        "#print out the entire dataframe\n",
        "print('DataFrame:\\n',df,'\\n')\n",
        "#print out the requested value\n",
        "print('Row #1 under Hempstead column:\\n',df['Hempstead'][1],'\\n')\n",
        "\n",
        "#set a new column, 'Riverhead', to be defined as the sum of the Islip and Brookhaven columns\n",
        "df['Riverhead'] = df['Islip'] + df['Brookhaven']\n",
        "\n",
        "#print out the new DataFrame\n",
        "print('DataFrame with Riverhead:\\n',df,'\\n')\n",
        "\n"
      ],
      "metadata": {
        "colab": {
          "base_uri": "https://localhost:8080/"
        },
        "id": "B_0WV0K37pXs",
        "outputId": "4e133f95-84c5-4599-f9d4-77623d27118d"
      },
      "execution_count": null,
      "outputs": [
        {
          "output_type": "stream",
          "name": "stdout",
          "text": [
            "DataFrame:\n",
            "                     Hempstead  Babylon  Islip  Brookhaven\n",
            "Population in 2099       2931     8043   8414        8661\n",
            "Population in 2300       5444     9227   7393        8007\n",
            "Population in 2400       1660     7977   4730        2940 \n",
            "\n",
            "Row #1 under Hempstead column:\n",
            " 5444 \n",
            "\n",
            "DataFrame with Riverhead:\n",
            "                     Hempstead  Babylon  Islip  Brookhaven  Riverhead\n",
            "Population in 2099       2931     8043   8414        8661      17075\n",
            "Population in 2300       5444     9227   7393        8007      15400\n",
            "Population in 2400       1660     7977   4730        2940       7670 \n",
            "\n"
          ]
        }
      ]
    },
    {
      "cell_type": "markdown",
      "source": [
        "## 4. Pandas II (15 pts)"
      ],
      "metadata": {
        "id": "WqHDjQC-KLjo"
      }
    },
    {
      "cell_type": "markdown",
      "source": [
        "0. Download the cvs file that comes with this assignment, and read it into a dataframe. You can also download this [csv file](https://media.githubusercontent.com/media/datablist/sample-csv-files/main/files/customers/customers-100.csv) with this link.\n",
        "1. Arrange the data in alphabetical order based on the last name. Display the first few rows.\n",
        "2. Count the number of customers whose subscription date is in 2021 (2021-01-01 to 2021-12-31). Report this number (e.g. print)."
      ],
      "metadata": {
        "id": "w6kHh8BENzHk"
      }
    },
    {
      "cell_type": "code",
      "source": [
        "#connect Google Drive to Google Colab\n",
        "from google.colab import drive\n",
        "drive.mount('/content/drive/')\n",
        "\n",
        "#read the CSV dataset from Google Drive into a DataFrame\n",
        "df = pd.read_csv('/content/drive/MyDrive/ams595/python3/customers-100.csv')\n",
        "#redefine the DataFrame as a version that is sorted by the 'Last Name' feature\n",
        "df = df.sort_values('Last Name')\n",
        "#print out the first 5 rows\n",
        "df.head()\n",
        "\n",
        "#print out the requested number of customers\n",
        "print('Number of customers whose subscription date is in 2021:',df['Subscription Date'].str.contains('2021').value_counts()[True])\n"
      ],
      "metadata": {
        "colab": {
          "base_uri": "https://localhost:8080/"
        },
        "id": "trFux4Xh9X_X",
        "outputId": "5a0504ed-b2e8-4099-f848-68d3327224e4"
      },
      "execution_count": 30,
      "outputs": [
        {
          "output_type": "stream",
          "name": "stdout",
          "text": [
            "Drive already mounted at /content/drive/; to attempt to forcibly remount, call drive.mount(\"/content/drive/\", force_remount=True).\n",
            "Number of customers whose subscription date is in 2021: 43\n"
          ]
        }
      ]
    },
    {
      "cell_type": "markdown",
      "source": [
        "## 5. LU decomposition (50 + 30 pts)\n"
      ],
      "metadata": {
        "id": "aBpXtK8VvApb"
      }
    },
    {
      "cell_type": "markdown",
      "source": [
        "Part A (50 points)\n",
        "1. Write a function `LUdecomposition()` that takes as input a matrix $A\\in \\mathbb{R}^{n \\times n}$. Perform Gaussian Elimination to have this function return two matrices $L$ and $U$ such that $A=LU$.\n",
        "2. Your function should raise any relevant errors, for example, raise an error if a pure LU decomposition does not exist for $A$ (meaning that you have to perform pivoting, i.e., permutation of rows).\n",
        "3. Create several random matrices for the purpose of testing your function. Obtain the $L$ and $U$ matrices, and for each random matrix obtain its L and U matrices and perform a matrix multiplication (`np.matmul()`) to determine whether the outcome closely resembles the original matrix $A$, allowing for slight differences attributable to precision errors.\n",
        "\n",
        "\n",
        "Note: LU decomposition with Gaussian elimination should be covered in your undergraduate linear algebra class. It is also covered in AMS 510. If you do not know how, this 10 minute [video](https://www.youtube.com/watch?v=UlWcofkUDDU&ab_channel=Mathispower4u) explains it very well.\n",
        "\n",
        "Part B (30 bonus points)\n",
        "4. Not all square matrices have a pure LU decomposition. However, PLU decomposition always exists. Write another function `pivoting()` that takes as input a matrix $A$ and return the permutation/pivoting matrix $P$ such that $PA$ always has a pure LU decomposition.\n",
        "5. Find an example $A$ for which `LUdecomposition()` raises an error. Then, use `pivoting()` to find $P$, and find the pure LU decomposition of $PA$. Verify that indeed $PA = LU$ with matrix multiplication (`np.matmul()`).\n",
        "\n",
        "\n",
        "Hint: Please do not print out a giant matrix and visually examine the outcomes. Think of a way to verify your results and output a boolean value.\n"
      ],
      "metadata": {
        "id": "ryafNieevrgZ"
      }
    },
    {
      "cell_type": "code",
      "source": [
        "import numpy as np\n",
        "\n",
        "def LUdecomposition(A):\n",
        "    #extract number of rows and columns in input matrix, A\n",
        "    m, n = A.shape\n",
        "    #raise error if input matrix is not square (nxn)\n",
        "    if m != n:\n",
        "        raise ValueError('Input matrix, A, is not square.')\n",
        "    #initialize list which will store L matrices used to transform A into U\n",
        "    Ls = []\n",
        "    #iterate over columns (column major algorithm)\n",
        "    for c in range(n):\n",
        "        #initialize this iterations L matrix as the identity matrix\n",
        "        L = np.identity(n)\n",
        "        #iterate over rows below the \"columnth\" row\n",
        "        for r in range(c+1, n):\n",
        "            #raise error if dividing by zero due to a zero diagonal element in A\n",
        "            if A[c, c] == 0:\n",
        "                raise ValueError('Diagonal element in A is 0, which causes invalid division by 0.')\n",
        "            #store the scaling factor used to induce a 0 into A to create U\n",
        "            L[r,c] = -A[r,c] / A[c,c]\n",
        "        #update with L to obtain the more-upper-triangular version of U\n",
        "        A = np.einsum('ij,jk->ik', L, A)\n",
        "        #store the L matrix used to convert A towards U\n",
        "        Ls.append(L)\n",
        "\n",
        "    #compute L^-1 by taking multiplying the individual L matrices together\n",
        "    L_inv = Ls[0]\n",
        "    for L in Ls[1:]:\n",
        "        L_inv = np.einsum('ij,jk->ik', L, L_inv)\n",
        "\n",
        "    #obtain the desired L matrix by inverting L^-1\n",
        "    L = np.linalg.inv(L_inv)\n",
        "    #obtain the desired U matrix by extracting the A matrix obtained by subsequent L matrices\n",
        "    U = A\n",
        "    #return L and U\n",
        "    return L, U\n",
        "\n",
        "# A = np.array(((3, 1),(-7, 2)))\n",
        "# L, U = LUdecomposition(A)\n",
        "# print(L)\n",
        "# print(U)\n",
        "# print(np.matmul(L,U))\n",
        "\n",
        "#let the random matrices tested by 4x4\n",
        "n = 4\n",
        "#test out the LU algorithm 3 times\n",
        "for i in range(3):\n",
        "    #create random nxn matrix\n",
        "    A = np.random.random((n,n))\n",
        "    #compute L and U\n",
        "    L, U = LUdecomposition(A)\n",
        "    #compute A from L and U\n",
        "    A_LU = np.matmul(L, U)\n",
        "    #print relative errors of each element in A\n",
        "    print(np.absolute((A - A_LU) / A), '\\n')\n"
      ],
      "metadata": {
        "id": "LFX1a7MiVOtV",
        "colab": {
          "base_uri": "https://localhost:8080/"
        },
        "outputId": "c5c18122-1d51-4800-b88e-9d1b7954aafd"
      },
      "execution_count": null,
      "outputs": [
        {
          "output_type": "stream",
          "name": "stdout",
          "text": [
            "[[0.00000000e+00 5.62967140e-16 3.46723245e-16 0.00000000e+00]\n",
            " [0.00000000e+00 2.36761042e-16 1.45817349e-15 1.62555544e-16]\n",
            " [0.00000000e+00 1.14899762e-16 3.42442196e-16 1.14035986e-15]\n",
            " [3.10520796e-16 1.28616286e-16 1.45203687e-16 4.43628536e-16]] \n",
            "\n",
            "[[1.60254967e-16 1.86282770e-16 0.00000000e+00 2.14263890e-16]\n",
            " [0.00000000e+00 1.32850470e-16 1.46369407e-16 1.80785116e-16]\n",
            " [1.74354670e-15 3.75521887e-16 5.11355145e-15 3.80533286e-16]\n",
            " [2.37929777e-16 1.75760650e-16 7.21946990e-16 0.00000000e+00]] \n",
            "\n",
            "[[1.32214702e-16 3.28602224e-16 2.59130771e-16 2.73655744e-14]\n",
            " [4.21869915e-16 1.28433787e-16 1.31491955e-16 1.34065024e-16]\n",
            " [1.22951489e-15 2.69600105e-16 3.67935792e-16 8.24692241e-16]\n",
            " [2.33948709e-16 2.55030310e-15 1.23576396e-15 5.41180267e-16]] \n",
            "\n"
          ]
        }
      ]
    },
    {
      "cell_type": "code",
      "source": [
        "def pivoting(A):\n",
        "    ..."
      ],
      "metadata": {
        "id": "TuJ-nXaKj3hg"
      },
      "execution_count": null,
      "outputs": []
    },
    {
      "cell_type": "markdown",
      "source": [
        "Fact: LU and PLU decompositions are not unique."
      ],
      "metadata": {
        "id": "QlP_giLsQRPM"
      }
    },
    {
      "cell_type": "markdown",
      "source": [
        "## 6. Markov Chain (30 pts)"
      ],
      "metadata": {
        "id": "X_4ITuoU53KF"
      }
    },
    {
      "cell_type": "markdown",
      "source": [
        "**BACKGROUND:** Consider a Markov chain transition matrix $P$ on a set of $n$ states, where $P_{i j}$ corresponds to the probability $\\left(0 \\leq P_{i j} \\leq 1\\right)$ to go from state $i$ to the state $j$, and each row is normalized so that\n",
        "$$\n",
        "\\sum_{j=1}^n P_{i j}=1 .\n",
        "$$\n",
        "\n",
        "Let $p$ be a size- $n$ vector composed of the probability distribution over the $n$ states, where\n",
        "$$\n",
        "\\sum_{j=1}^n p_j=1 .\n",
        "$$\n",
        "\n",
        "The transition rule corresponding to the transition matrix $P$ is $\\hat{p}=P^T p$, where $\\hat{p}$ corresponds to a new probability distribution and\n",
        "$$\n",
        "\\sum_{j=1}^n \\hat{p}_j=1 .\n",
        "$$\n",
        "TASK: Write a program that works with 5 states `only use the numpy library`. In particular,\n",
        "0. Fix the random seed to be the last digit of your id: `numpy.random.seed()`.\n",
        "\n",
        "1. Construct a random $5 \\times 5$ matrix $P$, and normalize each row so that\n",
        "$$\n",
        "\\sum_{j=1}^5 P_{i j}=1 .\n",
        "$$\n",
        "\n",
        "2. Construct a random size-5 vector $p$ and normalize it so that\n",
        "$$\n",
        "\\sum_{j=1}^5 p_j=1 .\n",
        "$$\n",
        "Apply the transition rule 50 times to obtain $p_{50}$.\n",
        "3. Compute the eigenvector $v$ of $P^T$ corresponding to the eigenvalue 1 (and numerically, the eigenvalue closest to $1)$, and then scale the eigenvector so that\n",
        "$$\n",
        "\\sum_{j=1}^5 v_j=1 .\n",
        "$$\n",
        "This scaled eigenvector is known as the stationary distribution.\n",
        "\n",
        "4. Compute the component wise difference between $p_{50}$ and the stationary distribution. Do they match with each other within $1 \\mathrm{e}-5$ ?\n",
        "\n",
        "HINTS: You may find the following functions useful in your implementation:\n",
        "- np.random.rand\n",
        "- np.dot\n",
        "- np.linalg.eig"
      ],
      "metadata": {
        "id": "X2-wBoxIWLQs"
      }
    },
    {
      "cell_type": "code",
      "source": [
        "#set seed to be the last digit of my ID\n",
        "np.random.seed(8)\n",
        "\n",
        "#create random 5x5 matrix that is row-normlized via softmax\n",
        "n = 5\n",
        "P = np.random.random((n,n))\n",
        "#create a softmax function which converts arrays into probability distributions\n",
        "softmax = lambda arr : np.exp(arr) / np.sum(np.exp(arr))\n",
        "for r in range(n):\n",
        "    #apply softmax to each row of P\n",
        "    P[r,:] = softmax(P[r,:])\n",
        "\n",
        "#create random 5x1 vector that is normlized via softmax\n",
        "p = np.random.random(n)\n",
        "p = softmax(p)\n",
        "\n",
        "#apply transition 50 times to obtain p_50\n",
        "#   compute eigendecomposition and use the fact that f(A) = U f(D) U^-1 to find P^50\n",
        "eigvals, U = np.linalg.eig(P)\n",
        "P_50 = np.matmul(np.matmul(U, np.diag(eigvals)**50), np.linalg.inv(U))\n",
        "p_50 = np.matmul(P_50, p)\n",
        "\n",
        "#eig returns eigenvalues in decreasing order,\n",
        "#   so for a Markov matrix the first eigenvector corresponds to lambda = 1\n",
        "#   all eigenvalues have magnitudes less than or equal to 1\n",
        "eigenvec = U[:, 0]\n",
        "stationary_dist = softmax(eigenvec)\n",
        "\n",
        "#print the absolute error in the difference between p_50 and the stationary distribution\n",
        "print(p_50 - stationary_dist)\n"
      ],
      "metadata": {
        "colab": {
          "base_uri": "https://localhost:8080/"
        },
        "id": "qUhCQJxMpylY",
        "outputId": "2897627e-3fc3-42c3-b555-2edc961576eb"
      },
      "execution_count": null,
      "outputs": [
        {
          "output_type": "stream",
          "name": "stdout",
          "text": [
            "[-8.77932411e-05 -8.77932411e-05 -8.77932411e-05 -8.77932411e-05\n",
            " -8.77932411e-05]\n"
          ]
        }
      ]
    },
    {
      "cell_type": "markdown",
      "source": [
        "As shown by the array printed above, the component wise difference between $p_{50}$ and the stationary distribution ALMOST match with each other within $1 \\mathrm{e}-5$. The absolute error is $-8.78\\mathrm{e}-05$ for each element of the 5-vector, which is on the order of magnitude of $1\\mathrm{e}-5$."
      ],
      "metadata": {
        "id": "G3wVEUwbw6yh"
      }
    }
  ],
  "metadata": {
    "anaconda-cloud": {},
    "kernelspec": {
      "display_name": "Python 3",
      "name": "python3"
    },
    "language_info": {
      "codemirror_mode": {
        "name": "ipython",
        "version": 3
      },
      "file_extension": ".py",
      "mimetype": "text/x-python",
      "name": "python",
      "nbconvert_exporter": "python",
      "pygments_lexer": "ipython3",
      "version": "3.7.4"
    },
    "colab": {
      "provenance": [],
      "collapsed_sections": [
        "uzMa1xSEwhe3"
      ],
      "gpuType": "T4"
    }
  },
  "nbformat": 4,
  "nbformat_minor": 0
}